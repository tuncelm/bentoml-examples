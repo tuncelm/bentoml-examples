{
 "cells": [
  {
   "cell_type": "code",
   "execution_count": 1,
   "id": "ff8a3727-c909-43cc-b201-badfbb378d8c",
   "metadata": {},
   "outputs": [],
   "source": [
    "import bentoml\n",
    "import numpy as np\n",
    "from sklearn.preprocessing import StandardScaler"
   ]
  },
  {
   "cell_type": "code",
   "execution_count": 2,
   "id": "2e98c11e-fbe4-4952-9e51-84605db7b1e3",
   "metadata": {},
   "outputs": [],
   "source": [
    "# Generate dummy dataset\n",
    "X_train = np.random.rand(5,3)\n",
    "X_test = np.random.rand(5,3)"
   ]
  },
  {
   "cell_type": "code",
   "execution_count": 3,
   "id": "efd0642d-eecb-4b0c-86c4-5c55fb00f352",
   "metadata": {},
   "outputs": [],
   "source": [
    "scaler = StandardScaler()\n",
    "X_train_scaled = scaler.fit_transform(X_train)"
   ]
  },
  {
   "cell_type": "markdown",
   "id": "2fccd52c-4fa1-4e5d-a790-d43ebca12ecc",
   "metadata": {},
   "source": [
    "### Save \"scaler\" object (model) with its functions \"transform\" and \"inverse_tranform\""
   ]
  },
  {
   "cell_type": "code",
   "execution_count": 4,
   "id": "844ccfd4-9973-442f-8b5e-01fb8f77d7cf",
   "metadata": {},
   "outputs": [
    {
     "data": {
      "text/plain": [
       "Model(tag=\"my_scaler:kcqttpqwwcxktgxn\", path=\"/Users/mehmettuncel/bentoml/models/my_scaler/kcqttpqwwcxktgxn/\")"
      ]
     },
     "execution_count": 4,
     "metadata": {},
     "output_type": "execute_result"
    }
   ],
   "source": [
    "bentoml.sklearn.save_model(\"my_scaler\", scaler,  signatures={ \"transform\" : { \"batchable\": False,}, \"inverse_transform\" : { \"batchable\": False,}})"
   ]
  },
  {
   "cell_type": "markdown",
   "id": "b76fedb8-9029-4520-bc1e-7af3fd0d1b0c",
   "metadata": {},
   "source": [
    "### Check the saved model using shell command on terminal (add prefix ! to commands)"
   ]
  },
  {
   "cell_type": "code",
   "execution_count": 5,
   "id": "779da95f-a3a9-416f-b0c5-8205be97f5e0",
   "metadata": {},
   "outputs": [
    {
     "name": "stdout",
     "output_type": "stream",
     "text": [
      "\u001b[1m \u001b[0m\u001b[1mTag                       \u001b[0m\u001b[1m \u001b[0m\u001b[1m \u001b[0m\u001b[1mModule         \u001b[0m\u001b[1m \u001b[0m\u001b[1m \u001b[0m\u001b[1mSize    \u001b[0m\u001b[1m \u001b[0m\u001b[1m \u001b[0m\u001b[1mCreation Time      \u001b[0m\u001b[1m \u001b[0m\n",
      " my_scaler:kcqttpqwwcxktgxn  bentoml.sklearn  1.10 KiB  2023-06-29 22:08:21 \n"
     ]
    }
   ],
   "source": [
    "! bentoml models list"
   ]
  },
  {
   "cell_type": "markdown",
   "id": "7bc85986-9a7b-4c3c-adf7-d57c6edd36fc",
   "metadata": {},
   "source": [
    "### Load \"scaler\" object (model) and test it"
   ]
  },
  {
   "cell_type": "code",
   "execution_count": 6,
   "id": "9c56f916-7da8-46b7-8816-aadd3e698344",
   "metadata": {},
   "outputs": [],
   "source": [
    "scaler2 = bentoml.sklearn.load_model(\"my_scaler:kcqttpqwwcxktgxn\")"
   ]
  },
  {
   "cell_type": "code",
   "execution_count": 7,
   "id": "bcb9e5e1-a5f9-4014-b6ee-360dc6a963ac",
   "metadata": {},
   "outputs": [
    {
     "data": {
      "text/plain": [
       "array([[-1.01035689,  4.96875791,  0.71955897],\n",
       "       [ 0.93424069,  1.87191671,  1.24126084],\n",
       "       [ 0.12545718,  2.07207713, -1.00459206],\n",
       "       [-0.74500949,  3.09286156,  1.35088741],\n",
       "       [ 1.02998804,  3.27607806, -0.88126629]])"
      ]
     },
     "execution_count": 7,
     "metadata": {},
     "output_type": "execute_result"
    }
   ],
   "source": [
    "scaler.transform(X_test)"
   ]
  },
  {
   "cell_type": "code",
   "execution_count": 8,
   "id": "aa5ec55d-f342-4c02-a7b6-121484dc9c4d",
   "metadata": {},
   "outputs": [
    {
     "data": {
      "text/plain": [
       "array([[-1.01035689,  4.96875791,  0.71955897],\n",
       "       [ 0.93424069,  1.87191671,  1.24126084],\n",
       "       [ 0.12545718,  2.07207713, -1.00459206],\n",
       "       [-0.74500949,  3.09286156,  1.35088741],\n",
       "       [ 1.02998804,  3.27607806, -0.88126629]])"
      ]
     },
     "execution_count": 8,
     "metadata": {},
     "output_type": "execute_result"
    }
   ],
   "source": [
    "scaler2.transform(X_test)"
   ]
  },
  {
   "cell_type": "markdown",
   "id": "5e147fa7-0c6e-45e8-8829-26f39946add9",
   "metadata": {},
   "source": [
    "### Model Import and Export\n",
    "Models saved with BentoML can be exported to a standalone archive file outside of the model store for sharing. For example:"
   ]
  },
  {
   "cell_type": "code",
   "execution_count": 9,
   "id": "e99b6b85-1c1a-4828-b039-444913e04c6c",
   "metadata": {},
   "outputs": [
    {
     "name": "stdout",
     "output_type": "stream",
     "text": [
      "\u001b[1m \u001b[0m\u001b[1mTag                       \u001b[0m\u001b[1m \u001b[0m\u001b[1m \u001b[0m\u001b[1mModule         \u001b[0m\u001b[1m \u001b[0m\u001b[1m \u001b[0m\u001b[1mSize    \u001b[0m\u001b[1m \u001b[0m\u001b[1m \u001b[0m\u001b[1mCreation Time      \u001b[0m\u001b[1m \u001b[0m\n",
      " my_scaler:kcqttpqwwcxktgxn  bentoml.sklearn  1.10 KiB  2023-06-29 22:08:21 \n"
     ]
    }
   ],
   "source": [
    "# list bentoml models saved\n",
    "! bentoml models list"
   ]
  },
  {
   "cell_type": "code",
   "execution_count": 10,
   "id": "15227812-c849-4d0a-975a-1f83dd0c352d",
   "metadata": {},
   "outputs": [
    {
     "name": "stdout",
     "output_type": "stream",
     "text": [
      "Model(tag=\"my_scaler:kcqttpqwwcxktgxn\") exported to /Users/mehmettuncel/bentoml/denemeler/my_scaler-kcqttpqwwcxktgxn.bentomodel.\n"
     ]
    }
   ],
   "source": [
    "# Export\n",
    "! bentoml models export my_scaler:kcqttpqwwcxktgxn ."
   ]
  },
  {
   "cell_type": "code",
   "execution_count": 11,
   "id": "f8733a66-f2e3-441d-938d-6593dd3a2bf1",
   "metadata": {},
   "outputs": [
    {
     "name": "stdout",
     "output_type": "stream",
     "text": [
      "Model(tag=\"my_scaler:kcqttpqwwcxktgxn\") deleted.\n"
     ]
    }
   ],
   "source": [
    "# Delete model from bentoml's models store\n",
    "! bentoml models delete -y my_scaler:kcqttpqwwcxktgxn"
   ]
  },
  {
   "cell_type": "code",
   "execution_count": 12,
   "id": "3d454c10-3de5-4d40-a84e-77cb05d5766b",
   "metadata": {},
   "outputs": [
    {
     "name": "stdout",
     "output_type": "stream",
     "text": [
      "\u001b[1m \u001b[0m\u001b[1mTag\u001b[0m\u001b[1m \u001b[0m\u001b[1m \u001b[0m\u001b[1mModule\u001b[0m\u001b[1m \u001b[0m\u001b[1m \u001b[0m\u001b[1mSize\u001b[0m\u001b[1m \u001b[0m\u001b[1m \u001b[0m\u001b[1mCreation Time\u001b[0m\u001b[1m \u001b[0m\n"
     ]
    }
   ],
   "source": [
    "# list bentoml models saved\n",
    "! bentoml models list"
   ]
  },
  {
   "cell_type": "code",
   "execution_count": 13,
   "id": "3bf16494-99a2-4c4b-8db0-ea929e255d95",
   "metadata": {},
   "outputs": [
    {
     "name": "stdout",
     "output_type": "stream",
     "text": [
      "Model(tag=\"my_scaler:kcqttpqwwcxktgxn\") imported.\n"
     ]
    }
   ],
   "source": [
    "# Import \n",
    "! bentoml models import ./my_scaler-kcqttpqwwcxktgxn.bentomodel"
   ]
  },
  {
   "cell_type": "code",
   "execution_count": 14,
   "id": "2f52624d-bab1-4020-af9e-cf43be3bd94a",
   "metadata": {},
   "outputs": [
    {
     "name": "stdout",
     "output_type": "stream",
     "text": [
      "\u001b[1m \u001b[0m\u001b[1mTag                       \u001b[0m\u001b[1m \u001b[0m\u001b[1m \u001b[0m\u001b[1mModule         \u001b[0m\u001b[1m \u001b[0m\u001b[1m \u001b[0m\u001b[1mSize    \u001b[0m\u001b[1m \u001b[0m\u001b[1m \u001b[0m\u001b[1mCreation Time      \u001b[0m\u001b[1m \u001b[0m\n",
      " my_scaler:kcqttpqwwcxktgxn  bentoml.sklearn  1.10 KiB  2023-06-29 22:08:21 \n"
     ]
    }
   ],
   "source": [
    "# list bentoml models saved\n",
    "! bentoml models list"
   ]
  },
  {
   "cell_type": "markdown",
   "id": "e8a06045-4418-46c9-8330-ffa766d95be7",
   "metadata": {},
   "source": [
    "### Load it again and use"
   ]
  },
  {
   "cell_type": "code",
   "execution_count": 16,
   "id": "6b517dae-44e2-4cae-9ace-5758cc10a6f8",
   "metadata": {},
   "outputs": [],
   "source": [
    "scaler3 = bentoml.sklearn.load_model(\"my_scaler:kcqttpqwwcxktgxn\")"
   ]
  },
  {
   "cell_type": "code",
   "execution_count": 17,
   "id": "5bc074d6-158a-47bb-84a3-f987d1ea1994",
   "metadata": {},
   "outputs": [
    {
     "data": {
      "text/plain": [
       "array([[-1.01035689,  4.96875791,  0.71955897],\n",
       "       [ 0.93424069,  1.87191671,  1.24126084],\n",
       "       [ 0.12545718,  2.07207713, -1.00459206],\n",
       "       [-0.74500949,  3.09286156,  1.35088741],\n",
       "       [ 1.02998804,  3.27607806, -0.88126629]])"
      ]
     },
     "execution_count": 17,
     "metadata": {},
     "output_type": "execute_result"
    }
   ],
   "source": [
    "scaler.transform(X_test)"
   ]
  },
  {
   "cell_type": "code",
   "execution_count": 19,
   "id": "af1b6bb2-470e-47cb-aba6-44f22f15531d",
   "metadata": {},
   "outputs": [
    {
     "data": {
      "text/plain": [
       "array([[-1.01035689,  4.96875791,  0.71955897],\n",
       "       [ 0.93424069,  1.87191671,  1.24126084],\n",
       "       [ 0.12545718,  2.07207713, -1.00459206],\n",
       "       [-0.74500949,  3.09286156,  1.35088741],\n",
       "       [ 1.02998804,  3.27607806, -0.88126629]])"
      ]
     },
     "execution_count": 19,
     "metadata": {},
     "output_type": "execute_result"
    }
   ],
   "source": [
    "scaler2.transform(X_test)"
   ]
  },
  {
   "cell_type": "code",
   "execution_count": 20,
   "id": "ecd5f250-debe-4ee9-9cb4-ef4f0b1dcefa",
   "metadata": {},
   "outputs": [
    {
     "data": {
      "text/plain": [
       "array([[-1.01035689,  4.96875791,  0.71955897],\n",
       "       [ 0.93424069,  1.87191671,  1.24126084],\n",
       "       [ 0.12545718,  2.07207713, -1.00459206],\n",
       "       [-0.74500949,  3.09286156,  1.35088741],\n",
       "       [ 1.02998804,  3.27607806, -0.88126629]])"
      ]
     },
     "execution_count": 20,
     "metadata": {},
     "output_type": "execute_result"
    }
   ],
   "source": [
    "scaler3.transform(X_test)"
   ]
  },
  {
   "cell_type": "code",
   "execution_count": null,
   "id": "5897458e-cfe6-4c10-ada7-c4475b3822d2",
   "metadata": {},
   "outputs": [],
   "source": []
  }
 ],
 "metadata": {
  "kernelspec": {
   "display_name": "Python [conda env:bentoEnv]",
   "language": "python",
   "name": "conda-env-bentoEnv-py"
  },
  "language_info": {
   "codemirror_mode": {
    "name": "ipython",
    "version": 3
   },
   "file_extension": ".py",
   "mimetype": "text/x-python",
   "name": "python",
   "nbconvert_exporter": "python",
   "pygments_lexer": "ipython3",
   "version": "3.7.13"
  }
 },
 "nbformat": 4,
 "nbformat_minor": 5
}
